{
 "cells": [
  {
   "cell_type": "code",
   "execution_count": 2,
   "id": "0c82e16e",
   "metadata": {},
   "outputs": [],
   "source": [
    "import pandas as pd\n",
    "import seaborn as sns\n",
    "import matplotlib.pyplot as plt\n",
    "\n",
    "\n",
    "from numpy import set_printoptions\n",
    "from sklearn.feature_selection import SelectKBest\n",
    "from sklearn.feature_selection import chi2\n",
    "\n",
    "from sklearn.decomposition import PCA\n",
    "\n",
    "from sklearn.ensemble import ExtraTreesClassifier"
   ]
  },
  {
   "cell_type": "code",
   "execution_count": 3,
   "id": "105e0541",
   "metadata": {},
   "outputs": [
    {
     "data": {
      "text/html": [
       "<div>\n",
       "<style scoped>\n",
       "    .dataframe tbody tr th:only-of-type {\n",
       "        vertical-align: middle;\n",
       "    }\n",
       "\n",
       "    .dataframe tbody tr th {\n",
       "        vertical-align: top;\n",
       "    }\n",
       "\n",
       "    .dataframe thead th {\n",
       "        text-align: right;\n",
       "    }\n",
       "</style>\n",
       "<table border=\"1\" class=\"dataframe\">\n",
       "  <thead>\n",
       "    <tr style=\"text-align: right;\">\n",
       "      <th></th>\n",
       "      <th>sedentary</th>\n",
       "      <th>LPA</th>\n",
       "      <th>MPA</th>\n",
       "      <th>VPA</th>\n",
       "      <th>steps</th>\n",
       "      <th>active</th>\n",
       "    </tr>\n",
       "  </thead>\n",
       "  <tbody>\n",
       "    <tr>\n",
       "      <th>0</th>\n",
       "      <td>111078</td>\n",
       "      <td>4138</td>\n",
       "      <td>1466</td>\n",
       "      <td>814</td>\n",
       "      <td>9876</td>\n",
       "      <td>2</td>\n",
       "    </tr>\n",
       "    <tr>\n",
       "      <th>1</th>\n",
       "      <td>112274</td>\n",
       "      <td>4640</td>\n",
       "      <td>1976</td>\n",
       "      <td>704</td>\n",
       "      <td>10074</td>\n",
       "      <td>3</td>\n",
       "    </tr>\n",
       "    <tr>\n",
       "      <th>2</th>\n",
       "      <td>134114</td>\n",
       "      <td>4104</td>\n",
       "      <td>2560</td>\n",
       "      <td>114</td>\n",
       "      <td>11014</td>\n",
       "      <td>3</td>\n",
       "    </tr>\n",
       "    <tr>\n",
       "      <th>3</th>\n",
       "      <td>80186</td>\n",
       "      <td>3288</td>\n",
       "      <td>2814</td>\n",
       "      <td>176</td>\n",
       "      <td>7656</td>\n",
       "      <td>2</td>\n",
       "    </tr>\n",
       "    <tr>\n",
       "      <th>4</th>\n",
       "      <td>79104</td>\n",
       "      <td>5564</td>\n",
       "      <td>1448</td>\n",
       "      <td>176</td>\n",
       "      <td>12114</td>\n",
       "      <td>3</td>\n",
       "    </tr>\n",
       "  </tbody>\n",
       "</table>\n",
       "</div>"
      ],
      "text/plain": [
       "   sedentary   LPA   MPA  VPA  steps  active\n",
       "0     111078  4138  1466  814   9876       2\n",
       "1     112274  4640  1976  704  10074       3\n",
       "2     134114  4104  2560  114  11014       3\n",
       "3      80186  3288  2814  176   7656       2\n",
       "4      79104  5564  1448  176  12114       3"
      ]
     },
     "execution_count": 3,
     "metadata": {},
     "output_type": "execute_result"
    }
   ],
   "source": [
    "df = pd.read_csv(\"/Users/fatemeh/Thises/exprimentalResult/ActivityClassification/PMData_Analysis/Classification/3/MOX2_5_data_labelled.csv\")\n",
    "df.head()\n",
    "#print(df.columns)"
   ]
  },
  {
   "cell_type": "code",
   "execution_count": 10,
   "id": "b9fcd994",
   "metadata": {},
   "outputs": [
    {
     "data": {
      "text/html": [
       "<div>\n",
       "<style scoped>\n",
       "    .dataframe tbody tr th:only-of-type {\n",
       "        vertical-align: middle;\n",
       "    }\n",
       "\n",
       "    .dataframe tbody tr th {\n",
       "        vertical-align: top;\n",
       "    }\n",
       "\n",
       "    .dataframe thead th {\n",
       "        text-align: right;\n",
       "    }\n",
       "</style>\n",
       "<table border=\"1\" class=\"dataframe\">\n",
       "  <thead>\n",
       "    <tr style=\"text-align: right;\">\n",
       "      <th></th>\n",
       "      <th>Date</th>\n",
       "      <th>IMA</th>\n",
       "      <th>WeightBearing</th>\n",
       "      <th>Sedentary</th>\n",
       "      <th>Standing</th>\n",
       "      <th>LPA</th>\n",
       "      <th>MPA</th>\n",
       "      <th>VPA</th>\n",
       "      <th>Steps</th>\n",
       "    </tr>\n",
       "  </thead>\n",
       "  <tbody>\n",
       "    <tr>\n",
       "      <th>0</th>\n",
       "      <td>8/11/2021</td>\n",
       "      <td>91815</td>\n",
       "      <td>1878</td>\n",
       "      <td>111078</td>\n",
       "      <td>1286</td>\n",
       "      <td>4138</td>\n",
       "      <td>1466</td>\n",
       "      <td>814</td>\n",
       "      <td>9876</td>\n",
       "    </tr>\n",
       "    <tr>\n",
       "      <th>1</th>\n",
       "      <td>9/11/2021</td>\n",
       "      <td>100642</td>\n",
       "      <td>3226</td>\n",
       "      <td>112274</td>\n",
       "      <td>2144</td>\n",
       "      <td>4640</td>\n",
       "      <td>1976</td>\n",
       "      <td>704</td>\n",
       "      <td>10074</td>\n",
       "    </tr>\n",
       "    <tr>\n",
       "      <th>2</th>\n",
       "      <td>10/11/2021</td>\n",
       "      <td>137141</td>\n",
       "      <td>3120</td>\n",
       "      <td>134114</td>\n",
       "      <td>3048</td>\n",
       "      <td>4104</td>\n",
       "      <td>2560</td>\n",
       "      <td>114</td>\n",
       "      <td>11014</td>\n",
       "    </tr>\n",
       "    <tr>\n",
       "      <th>3</th>\n",
       "      <td>11/11/2021</td>\n",
       "      <td>90231</td>\n",
       "      <td>292</td>\n",
       "      <td>80186</td>\n",
       "      <td>240</td>\n",
       "      <td>3288</td>\n",
       "      <td>2814</td>\n",
       "      <td>176</td>\n",
       "      <td>7656</td>\n",
       "    </tr>\n",
       "    <tr>\n",
       "      <th>4</th>\n",
       "      <td>12/11/2021</td>\n",
       "      <td>97236</td>\n",
       "      <td>18</td>\n",
       "      <td>79104</td>\n",
       "      <td>18</td>\n",
       "      <td>5564</td>\n",
       "      <td>1448</td>\n",
       "      <td>176</td>\n",
       "      <td>12114</td>\n",
       "    </tr>\n",
       "  </tbody>\n",
       "</table>\n",
       "</div>"
      ],
      "text/plain": [
       "         Date     IMA  WeightBearing  Sedentary  Standing   LPA   MPA  VPA  \\\n",
       "0   8/11/2021   91815           1878     111078      1286  4138  1466  814   \n",
       "1   9/11/2021  100642           3226     112274      2144  4640  1976  704   \n",
       "2  10/11/2021  137141           3120     134114      3048  4104  2560  114   \n",
       "3  11/11/2021   90231            292      80186       240  3288  2814  176   \n",
       "4  12/11/2021   97236             18      79104        18  5564  1448  176   \n",
       "\n",
       "   Steps  \n",
       "0   9876  \n",
       "1  10074  \n",
       "2  11014  \n",
       "3   7656  \n",
       "4  12114  "
      ]
     },
     "execution_count": 10,
     "metadata": {},
     "output_type": "execute_result"
    }
   ],
   "source": [
    "df2 = pd.read_csv(\"/Users/fatemeh/Thises/exprimentalResult/ActivityClassification/PMData_Analysis/Classification/2/MOX2_5_data_unlabelled.csv\")\n",
    "columns = ['IMA', 'WeightBearing', 'Sedentary', 'Standing', 'LPA', 'MPA', 'VPA', 'Steps']\n",
    "df3 = df2[columns]\n",
    "df2.head()"
   ]
  },
  {
   "cell_type": "code",
   "execution_count": 13,
   "id": "646a3367",
   "metadata": {},
   "outputs": [
    {
     "data": {
      "text/html": [
       "<style type=\"text/css\">\n",
       "#T_d42c9_row0_col0, #T_d42c9_row1_col1, #T_d42c9_row2_col2, #T_d42c9_row3_col3, #T_d42c9_row4_col4 {\n",
       "  background-color: #084081;\n",
       "  color: #f1f1f1;\n",
       "}\n",
       "#T_d42c9_row0_col1 {\n",
       "  background-color: #f6fbef;\n",
       "  color: #000000;\n",
       "}\n",
       "#T_d42c9_row0_col2, #T_d42c9_row0_col3, #T_d42c9_row0_col4, #T_d42c9_row2_col0, #T_d42c9_row2_col1 {\n",
       "  background-color: #f7fcf0;\n",
       "  color: #000000;\n",
       "}\n",
       "#T_d42c9_row1_col0 {\n",
       "  background-color: #e2f4dd;\n",
       "  color: #000000;\n",
       "}\n",
       "#T_d42c9_row1_col2 {\n",
       "  background-color: #e4f4de;\n",
       "  color: #000000;\n",
       "}\n",
       "#T_d42c9_row1_col3 {\n",
       "  background-color: #f1faeb;\n",
       "  color: #000000;\n",
       "}\n",
       "#T_d42c9_row1_col4 {\n",
       "  background-color: #67c1cb;\n",
       "  color: #000000;\n",
       "}\n",
       "#T_d42c9_row2_col3 {\n",
       "  background-color: #afe0b8;\n",
       "  color: #000000;\n",
       "}\n",
       "#T_d42c9_row2_col4 {\n",
       "  background-color: #81cec2;\n",
       "  color: #000000;\n",
       "}\n",
       "#T_d42c9_row3_col0 {\n",
       "  background-color: #ddf2d8;\n",
       "  color: #000000;\n",
       "}\n",
       "#T_d42c9_row3_col1 {\n",
       "  background-color: #eaf7e4;\n",
       "  color: #000000;\n",
       "}\n",
       "#T_d42c9_row3_col2 {\n",
       "  background-color: #8fd4bd;\n",
       "  color: #000000;\n",
       "}\n",
       "#T_d42c9_row3_col4 {\n",
       "  background-color: #addfb7;\n",
       "  color: #000000;\n",
       "}\n",
       "#T_d42c9_row4_col0 {\n",
       "  background-color: #c0e6c0;\n",
       "  color: #000000;\n",
       "}\n",
       "#T_d42c9_row4_col1 {\n",
       "  background-color: #48accf;\n",
       "  color: #f1f1f1;\n",
       "}\n",
       "#T_d42c9_row4_col2 {\n",
       "  background-color: #4bb0d1;\n",
       "  color: #f1f1f1;\n",
       "}\n",
       "#T_d42c9_row4_col3 {\n",
       "  background-color: #86d0c0;\n",
       "  color: #000000;\n",
       "}\n",
       "</style>\n",
       "<table id=\"T_d42c9\">\n",
       "  <thead>\n",
       "    <tr>\n",
       "      <th class=\"blank level0\" >&nbsp;</th>\n",
       "      <th id=\"T_d42c9_level0_col0\" class=\"col_heading level0 col0\" >sedentary</th>\n",
       "      <th id=\"T_d42c9_level0_col1\" class=\"col_heading level0 col1\" >LPA</th>\n",
       "      <th id=\"T_d42c9_level0_col2\" class=\"col_heading level0 col2\" >MPA</th>\n",
       "      <th id=\"T_d42c9_level0_col3\" class=\"col_heading level0 col3\" >VPA</th>\n",
       "      <th id=\"T_d42c9_level0_col4\" class=\"col_heading level0 col4\" >steps</th>\n",
       "    </tr>\n",
       "  </thead>\n",
       "  <tbody>\n",
       "    <tr>\n",
       "      <th id=\"T_d42c9_level0_row0\" class=\"row_heading level0 row0\" >sedentary</th>\n",
       "      <td id=\"T_d42c9_row0_col0\" class=\"data row0 col0\" >1.000000</td>\n",
       "      <td id=\"T_d42c9_row0_col1\" class=\"data row0 col1\" >0.190126</td>\n",
       "      <td id=\"T_d42c9_row0_col2\" class=\"data row0 col2\" >0.086197</td>\n",
       "      <td id=\"T_d42c9_row0_col3\" class=\"data row0 col3\" >0.217722</td>\n",
       "      <td id=\"T_d42c9_row0_col4\" class=\"data row0 col4\" >0.353007</td>\n",
       "    </tr>\n",
       "    <tr>\n",
       "      <th id=\"T_d42c9_level0_row1\" class=\"row_heading level0 row1\" >LPA</th>\n",
       "      <td id=\"T_d42c9_row1_col0\" class=\"data row1 col0\" >0.190126</td>\n",
       "      <td id=\"T_d42c9_row1_col1\" class=\"data row1 col1\" >1.000000</td>\n",
       "      <td id=\"T_d42c9_row1_col2\" class=\"data row1 col2\" >0.183030</td>\n",
       "      <td id=\"T_d42c9_row1_col3\" class=\"data row1 col3\" >0.242950</td>\n",
       "      <td id=\"T_d42c9_row1_col4\" class=\"data row1 col4\" >0.712723</td>\n",
       "    </tr>\n",
       "    <tr>\n",
       "      <th id=\"T_d42c9_level0_row2\" class=\"row_heading level0 row2\" >MPA</th>\n",
       "      <td id=\"T_d42c9_row2_col0\" class=\"data row2 col0\" >0.086197</td>\n",
       "      <td id=\"T_d42c9_row2_col1\" class=\"data row2 col1\" >0.183030</td>\n",
       "      <td id=\"T_d42c9_row2_col2\" class=\"data row2 col2\" >1.000000</td>\n",
       "      <td id=\"T_d42c9_row2_col3\" class=\"data row2 col3\" >0.490670</td>\n",
       "      <td id=\"T_d42c9_row2_col4\" class=\"data row2 col4\" >0.664682</td>\n",
       "    </tr>\n",
       "    <tr>\n",
       "      <th id=\"T_d42c9_level0_row3\" class=\"row_heading level0 row3\" >VPA</th>\n",
       "      <td id=\"T_d42c9_row3_col0\" class=\"data row3 col0\" >0.217722</td>\n",
       "      <td id=\"T_d42c9_row3_col1\" class=\"data row3 col1\" >0.242950</td>\n",
       "      <td id=\"T_d42c9_row3_col2\" class=\"data row3 col2\" >0.490670</td>\n",
       "      <td id=\"T_d42c9_row3_col3\" class=\"data row3 col3\" >1.000000</td>\n",
       "      <td id=\"T_d42c9_row3_col4\" class=\"data row3 col4\" >0.584620</td>\n",
       "    </tr>\n",
       "    <tr>\n",
       "      <th id=\"T_d42c9_level0_row4\" class=\"row_heading level0 row4\" >steps</th>\n",
       "      <td id=\"T_d42c9_row4_col0\" class=\"data row4 col0\" >0.353007</td>\n",
       "      <td id=\"T_d42c9_row4_col1\" class=\"data row4 col1\" >0.712723</td>\n",
       "      <td id=\"T_d42c9_row4_col2\" class=\"data row4 col2\" >0.664682</td>\n",
       "      <td id=\"T_d42c9_row4_col3\" class=\"data row4 col3\" >0.584620</td>\n",
       "      <td id=\"T_d42c9_row4_col4\" class=\"data row4 col4\" >1.000000</td>\n",
       "    </tr>\n",
       "  </tbody>\n",
       "</table>\n"
      ],
      "text/plain": [
       "<pandas.io.formats.style.Styler at 0x134f47710>"
      ]
     },
     "execution_count": 13,
     "metadata": {},
     "output_type": "execute_result"
    }
   ],
   "source": [
    "data = df.drop(columns=['active'])\n",
    "cor  = data.corr()\n",
    "cor.style.background_gradient(cmap='GnBu')"
   ]
  },
  {
   "cell_type": "code",
   "execution_count": 14,
   "id": "7a2b9cf2",
   "metadata": {},
   "outputs": [
    {
     "data": {
      "image/png": "[encoded data removed]",
      "text/plain": [
       "<Figure size 640x480 with 1 Axes>"
      ]
     },
     "metadata": {},
     "output_type": "display_data"
    }
   ],
   "source": [
    "fig, ax = plt.subplots()\n",
    "sns.heatmap(data.corr(method='pearson'), annot=True, fmt='.2f', \n",
    "            cmap=plt.get_cmap('Blues'), cbar=False, linewidths=1, ax=ax)\n",
    "ax.set_yticklabels(ax.get_yticklabels(), rotation=\"horizontal\")\n",
    "plt.savefig('Corr_result_in_mox.png', bbox_inches='tight', pad_inches=0.0, dpi=300)"
   ]
  },
  {
   "cell_type": "code",
   "execution_count": 15,
   "id": "3bfcd096",
   "metadata": {},
   "outputs": [
    {
     "data": {
      "image/png": "[encoded data removed]",
      "text/plain": [
       "<Figure size 640x480 with 1 Axes>"
      ]
     },
     "metadata": {},
     "output_type": "display_data"
    }
   ],
   "source": [
    "fig, ax = plt.subplots()\n",
    "sns.heatmap(df3.corr(method='pearson'), annot=True, fmt='.2f', \n",
    "            cmap=plt.get_cmap('Blues'), cbar=False, linewidths=1, ax=ax)\n",
    "ax.set_yticklabels(ax.get_yticklabels(), rotation=\"horizontal\")\n",
    "plt.savefig('Corrrr_result_in_mox.png', bbox_inches='tight', pad_inches=0.0, dpi=300)"
   ]
  },
  {
   "cell_type": "code",
   "execution_count": 8,
   "id": "1a704969",
   "metadata": {},
   "outputs": [
    {
     "data": {
      "text/html": [
       "<style type=\"text/css\">\n",
       "#T_d2eb6_row0_col0, #T_d2eb6_row1_col1, #T_d2eb6_row2_col2, #T_d2eb6_row3_col3, #T_d2eb6_row4_col4 {\n",
       "  background-color: #b40426;\n",
       "  color: #f1f1f1;\n",
       "}\n",
       "#T_d2eb6_row0_col1 {\n",
       "  background-color: #3d50c3;\n",
       "  color: #f1f1f1;\n",
       "}\n",
       "#T_d2eb6_row0_col2, #T_d2eb6_row0_col3, #T_d2eb6_row0_col4, #T_d2eb6_row2_col0, #T_d2eb6_row2_col1 {\n",
       "  background-color: #3b4cc0;\n",
       "  color: #f1f1f1;\n",
       "}\n",
       "#T_d2eb6_row1_col0 {\n",
       "  background-color: #5e7de7;\n",
       "  color: #f1f1f1;\n",
       "}\n",
       "#T_d2eb6_row1_col2 {\n",
       "  background-color: #5b7ae5;\n",
       "  color: #f1f1f1;\n",
       "}\n",
       "#T_d2eb6_row1_col3 {\n",
       "  background-color: #445acc;\n",
       "  color: #f1f1f1;\n",
       "}\n",
       "#T_d2eb6_row1_col4 {\n",
       "  background-color: #ead4c8;\n",
       "  color: #000000;\n",
       "}\n",
       "#T_d2eb6_row2_col3 {\n",
       "  background-color: #afcafc;\n",
       "  color: #000000;\n",
       "}\n",
       "#T_d2eb6_row2_col4 {\n",
       "  background-color: #d8dce2;\n",
       "  color: #000000;\n",
       "}\n",
       "#T_d2eb6_row3_col0 {\n",
       "  background-color: #6788ee;\n",
       "  color: #f1f1f1;\n",
       "}\n",
       "#T_d2eb6_row3_col1 {\n",
       "  background-color: #506bda;\n",
       "  color: #f1f1f1;\n",
       "}\n",
       "#T_d2eb6_row3_col2 {\n",
       "  background-color: #cdd9ec;\n",
       "  color: #000000;\n",
       "}\n",
       "#T_d2eb6_row3_col4 {\n",
       "  background-color: #b2ccfb;\n",
       "  color: #000000;\n",
       "}\n",
       "#T_d2eb6_row4_col0 {\n",
       "  background-color: #9bbcff;\n",
       "  color: #000000;\n",
       "}\n",
       "#T_d2eb6_row4_col1 {\n",
       "  background-color: #f6bea4;\n",
       "  color: #000000;\n",
       "}\n",
       "#T_d2eb6_row4_col2 {\n",
       "  background-color: #f5c1a9;\n",
       "  color: #000000;\n",
       "}\n",
       "#T_d2eb6_row4_col3 {\n",
       "  background-color: #d5dbe5;\n",
       "  color: #000000;\n",
       "}\n",
       "</style>\n",
       "<table id=\"T_d2eb6\">\n",
       "  <thead>\n",
       "    <tr>\n",
       "      <th class=\"blank level0\" >&nbsp;</th>\n",
       "      <th id=\"T_d2eb6_level0_col0\" class=\"col_heading level0 col0\" >sedentary</th>\n",
       "      <th id=\"T_d2eb6_level0_col1\" class=\"col_heading level0 col1\" >LPA</th>\n",
       "      <th id=\"T_d2eb6_level0_col2\" class=\"col_heading level0 col2\" >MPA</th>\n",
       "      <th id=\"T_d2eb6_level0_col3\" class=\"col_heading level0 col3\" >VPA</th>\n",
       "      <th id=\"T_d2eb6_level0_col4\" class=\"col_heading level0 col4\" >steps</th>\n",
       "    </tr>\n",
       "  </thead>\n",
       "  <tbody>\n",
       "    <tr>\n",
       "      <th id=\"T_d2eb6_level0_row0\" class=\"row_heading level0 row0\" >sedentary</th>\n",
       "      <td id=\"T_d2eb6_row0_col0\" class=\"data row0 col0\" >1.000000</td>\n",
       "      <td id=\"T_d2eb6_row0_col1\" class=\"data row0 col1\" >0.190126</td>\n",
       "      <td id=\"T_d2eb6_row0_col2\" class=\"data row0 col2\" >0.086197</td>\n",
       "      <td id=\"T_d2eb6_row0_col3\" class=\"data row0 col3\" >0.217722</td>\n",
       "      <td id=\"T_d2eb6_row0_col4\" class=\"data row0 col4\" >0.353007</td>\n",
       "    </tr>\n",
       "    <tr>\n",
       "      <th id=\"T_d2eb6_level0_row1\" class=\"row_heading level0 row1\" >LPA</th>\n",
       "      <td id=\"T_d2eb6_row1_col0\" class=\"data row1 col0\" >0.190126</td>\n",
       "      <td id=\"T_d2eb6_row1_col1\" class=\"data row1 col1\" >1.000000</td>\n",
       "      <td id=\"T_d2eb6_row1_col2\" class=\"data row1 col2\" >0.183030</td>\n",
       "      <td id=\"T_d2eb6_row1_col3\" class=\"data row1 col3\" >0.242950</td>\n",
       "      <td id=\"T_d2eb6_row1_col4\" class=\"data row1 col4\" >0.712723</td>\n",
       "    </tr>\n",
       "    <tr>\n",
       "      <th id=\"T_d2eb6_level0_row2\" class=\"row_heading level0 row2\" >MPA</th>\n",
       "      <td id=\"T_d2eb6_row2_col0\" class=\"data row2 col0\" >0.086197</td>\n",
       "      <td id=\"T_d2eb6_row2_col1\" class=\"data row2 col1\" >0.183030</td>\n",
       "      <td id=\"T_d2eb6_row2_col2\" class=\"data row2 col2\" >1.000000</td>\n",
       "      <td id=\"T_d2eb6_row2_col3\" class=\"data row2 col3\" >0.490670</td>\n",
       "      <td id=\"T_d2eb6_row2_col4\" class=\"data row2 col4\" >0.664682</td>\n",
       "    </tr>\n",
       "    <tr>\n",
       "      <th id=\"T_d2eb6_level0_row3\" class=\"row_heading level0 row3\" >VPA</th>\n",
       "      <td id=\"T_d2eb6_row3_col0\" class=\"data row3 col0\" >0.217722</td>\n",
       "      <td id=\"T_d2eb6_row3_col1\" class=\"data row3 col1\" >0.242950</td>\n",
       "      <td id=\"T_d2eb6_row3_col2\" class=\"data row3 col2\" >0.490670</td>\n",
       "      <td id=\"T_d2eb6_row3_col3\" class=\"data row3 col3\" >1.000000</td>\n",
       "      <td id=\"T_d2eb6_row3_col4\" class=\"data row3 col4\" >0.584620</td>\n",
       "    </tr>\n",
       "    <tr>\n",
       "      <th id=\"T_d2eb6_level0_row4\" class=\"row_heading level0 row4\" >steps</th>\n",
       "      <td id=\"T_d2eb6_row4_col0\" class=\"data row4 col0\" >0.353007</td>\n",
       "      <td id=\"T_d2eb6_row4_col1\" class=\"data row4 col1\" >0.712723</td>\n",
       "      <td id=\"T_d2eb6_row4_col2\" class=\"data row4 col2\" >0.664682</td>\n",
       "      <td id=\"T_d2eb6_row4_col3\" class=\"data row4 col3\" >0.584620</td>\n",
       "      <td id=\"T_d2eb6_row4_col4\" class=\"data row4 col4\" >1.000000</td>\n",
       "    </tr>\n",
       "  </tbody>\n",
       "</table>\n"
      ],
      "text/plain": [
       "<pandas.io.formats.style.Styler at 0x12e74e870>"
      ]
     },
     "execution_count": 8,
     "metadata": {},
     "output_type": "execute_result"
    }
   ],
   "source": [
    "corr = data.corr()\n",
    "corr.style.background_gradient(cmap='coolwarm')"
   ]
  },
  {
   "cell_type": "code",
   "execution_count": 9,
   "id": "9a359974",
   "metadata": {},
   "outputs": [
    {
     "name": "stderr",
     "output_type": "stream",
     "text": [
      "/var/folders/yr/hy7b_nl94zg6x7p5xd0ypr180000gn/T/ipykernel_63425/3470518475.py:2: FutureWarning: \n",
      "\n",
      "Passing `palette` without assigning `hue` is deprecated and will be removed in v0.14.0. Assign the `x` variable to `hue` and set `legend=False` for the same effect.\n",
      "\n",
      "  sns.countplot(x ='active', data = df, palette = \"Set2\", saturation = 0.1)\n"
     ]
    },
    {
     "data": {
      "image/png": "[encoded data removed]",
      "text/plain": [
       "<Figure size 640x480 with 1 Axes>"
      ]
     },
     "metadata": {},
     "output_type": "display_data"
    }
   ],
   "source": [
    "# count plot on single categorical variable\n",
    "sns.countplot(x ='active', data = df, palette = \"Set2\", saturation = 0.1)\n",
    "\n",
    "plt.savefig('Distribution_of_classes_MOX.png', bbox_inches='tight', pad_inches=1.0, dpi=300)"
   ]
  },
  {
   "cell_type": "code",
   "execution_count": 10,
   "id": "a7979626",
   "metadata": {},
   "outputs": [
    {
     "data": {
      "text/plain": [
       "np.False_"
      ]
     },
     "execution_count": 10,
     "metadata": {},
     "output_type": "execute_result"
    }
   ],
   "source": [
    "df.isnull().values.any()"
   ]
  },
  {
   "cell_type": "code",
   "execution_count": 11,
   "id": "26ca1521",
   "metadata": {},
   "outputs": [
    {
     "data": {
      "text/plain": [
       "(539, 6)"
      ]
     },
     "execution_count": 11,
     "metadata": {},
     "output_type": "execute_result"
    }
   ],
   "source": [
    "df.shape"
   ]
  },
  {
   "cell_type": "code",
   "execution_count": 12,
   "id": "98fdbe3b",
   "metadata": {},
   "outputs": [],
   "source": [
    "X = df[['steps', 'sedentary', 'LPA', 'MPA', 'VPA']]\n",
    "Y = df['active']"
   ]
  },
  {
   "cell_type": "code",
   "execution_count": 13,
   "id": "734b78a0",
   "metadata": {},
   "outputs": [
    {
     "name": "stdout",
     "output_type": "stream",
     "text": [
      "[1124239.68  485622.78  434239.95  162037.25  177750.78]\n",
      "Mask: [ True  True  True  True  True]\n",
      "Selected feature names: Index(['steps', 'sedentary', 'LPA', 'MPA', 'VPA'], dtype='object')\n",
      "\n",
      "Featured data:\n",
      " [[  9876 111078   4138   1466    814]\n",
      " [ 10074 112274   4640   1976    704]\n",
      " [ 11014 134114   4104   2560    114]\n",
      " [  7656  80186   3288   2814    176]\n",
      " [ 12114  79104   5564   1448    176]]\n"
     ]
    }
   ],
   "source": [
    "#Feature selection\n",
    "#SelectKBest\n",
    "test = SelectKBest(score_func=chi2, k=5)\n",
    "fit = test.fit(X,Y)\n",
    "\n",
    "set_printoptions(precision=2)\n",
    "print(fit.scores_)\n",
    "\n",
    "mask = fit.get_support()\n",
    "print(\"Mask:\", mask)\n",
    "\n",
    "selected_features = X.columns[mask]\n",
    "print(\"Selected feature names:\", selected_features)\n",
    "\n",
    "featured_data = fit.transform(X)\n",
    "print (\"\\nFeatured data:\\n\", featured_data[0:5])"
   ]
  },
  {
   "cell_type": "code",
   "execution_count": 14,
   "id": "d662071b",
   "metadata": {},
   "outputs": [
    {
     "name": "stdout",
     "output_type": "stream",
     "text": [
      "['pca0' 'pca1' 'pca2' 'pca3' 'pca4']\n",
      "Explained Variance: [9.65e-01 2.97e-02 4.06e-03 8.88e-04 3.97e-04]\n",
      "[[ 6.16e-02  9.98e-01  1.85e-02  3.45e-03  9.04e-03]\n",
      " [ 8.91e-01 -6.42e-02  4.12e-01  1.31e-01  1.19e-01]\n",
      " [-3.14e-01  6.89e-03  8.55e-01 -3.26e-01 -2.52e-01]\n",
      " [-1.73e-01 -2.31e-04  1.52e-01 -1.76e-01  9.57e-01]\n",
      " [-2.71e-01  7.79e-03  2.73e-01  9.20e-01  7.70e-02]]\n"
     ]
    }
   ],
   "source": [
    "#PCA\n",
    "pca = PCA(n_components=5)\n",
    "fit = pca.fit(X)\n",
    "print(fit.get_feature_names_out())\n",
    "print((\"Explained Variance: %s\") % fit.explained_variance_ratio_)\n",
    "print(fit.components_)"
   ]
  },
  {
   "cell_type": "code",
   "execution_count": null,
   "id": "901c23cc",
   "metadata": {},
   "outputs": [
    {
     "name": "stdout",
     "output_type": "stream",
     "text": [
      "['steps' 'sedentary' 'LPA' 'MPA' 'VPA']\n",
      "[0.52 0.07 0.17 0.16 0.08]\n"
     ]
    }
   ],
   "source": [
    "# Feature Importance\n",
    "# ExtraTreesClassifier\n",
    "model = ExtraTreesClassifier()\n",
    "model.fit(X, Y)\n",
    "print(model.feature_names_in_)\n",
    "print(model.feature_importances_)"
   ]
  }
 ],
 "metadata": {
  "kernelspec": {
   "display_name": "exprimentalresult",
   "language": "python",
   "name": "python3"
  },
  "language_info": {
   "codemirror_mode": {
    "name": "ipython",
    "version": 3
   },
   "file_extension": ".py",
   "mimetype": "text/x-python",
   "name": "python",
   "nbconvert_exporter": "python",
   "pygments_lexer": "ipython3",
   "version": "3.12.11"
  }
 },
 "nbformat": 4,
 "nbformat_minor": 5
}
